{
 "cells": [
  {
   "cell_type": "markdown",
   "id": "dba2f74e",
   "metadata": {},
   "source": [
    "* Data Science Tools and Ecosystem"
   ]
  },
  {
   "cell_type": "markdown",
   "id": "4964eb91",
   "metadata": {},
   "source": [
    "** In this notebook, Data Science Tools and Ecosystem are summarized."
   ]
  },
  {
   "cell_type": "markdown",
   "id": "d8c93591",
   "metadata": {},
   "source": [
    "Some of the popular languages that Data Scientists use are:\n",
    "1. Python\n",
    "2. R\n",
    "3. SQL\n",
    "4. javascript\n"
   ]
  },
  {
   "cell_type": "markdown",
   "id": "b6235259",
   "metadata": {},
   "source": [
    "Some of the commonly used libraries used by Data Scientists include:\n",
    "1. Scikit-learn\n",
    "2. Matplotlib\n",
    "3. TensrFlow\n",
    "4. PyTorch\n",
    "5. Keras\n",
    "6. Pandas"
   ]
  },
  {
   "cell_type": "markdown",
   "id": "7ec4eb3c",
   "metadata": {},
   "source": [
    "| Data Science Tools |\n",
    "|------------------|\n",
    "| JupyterLab |\n",
    "| Anaconda |\n",
    "| VisualStudio Code |\n",
    "\n"
   ]
  },
  {
   "cell_type": "markdown",
   "id": "20a6506c",
   "metadata": {},
   "source": [
    "### Below are a few examples of evaluating arithmetic expressions in Python"
   ]
  },
  {
   "cell_type": "markdown",
   "id": "e945dd78",
   "metadata": {},
   "source": [
    "### This a simple arithmetic expression to mutiply then add integers"
   ]
  },
  {
   "cell_type": "code",
   "execution_count": 10,
   "id": "e13363b5",
   "metadata": {},
   "outputs": [
    {
     "data": {
      "text/plain": [
       "17"
      ]
     },
     "execution_count": 10,
     "metadata": {},
     "output_type": "execute_result"
    }
   ],
   "source": [
    "(3*4)+5"
   ]
  },
  {
   "cell_type": "markdown",
   "id": "7a7a4a10",
   "metadata": {},
   "source": [
    "### This will convert 200 minutes to hours by diving by 60"
   ]
  },
  {
   "cell_type": "code",
   "execution_count": 14,
   "id": "35879244",
   "metadata": {},
   "outputs": [
    {
     "data": {
      "text/plain": [
       "3.3333333333333335"
      ]
     },
     "execution_count": 14,
     "metadata": {},
     "output_type": "execute_result"
    }
   ],
   "source": [
    "200/60"
   ]
  },
  {
   "cell_type": "markdown",
   "id": "3da239c3",
   "metadata": {},
   "source": [
    "<b> Objectives"
   ]
  },
  {
   "cell_type": "markdown",
   "id": "4d8d420a",
   "metadata": {},
   "source": [
    "    * popular languages that Data Scientists\n",
    "    * popular languages that Data Scientists\n",
    "    * commonly used libraries used by Data Scientists"
   ]
  },
  {
   "cell_type": "markdown",
   "id": "9f017604",
   "metadata": {},
   "source": [
    "# Akinwande Elewa"
   ]
  },
  {
   "cell_type": "markdown",
   "id": "2cc380be",
   "metadata": {},
   "source": [
    "Author"
   ]
  },
  {
   "cell_type": "code",
   "execution_count": null,
   "id": "070dcdb7",
   "metadata": {},
   "outputs": [],
   "source": []
  }
 ],
 "metadata": {
  "kernelspec": {
   "display_name": "Python 3 (ipykernel)",
   "language": "python",
   "name": "python3"
  },
  "language_info": {
   "codemirror_mode": {
    "name": "ipython",
    "version": 3
   },
   "file_extension": ".py",
   "mimetype": "text/x-python",
   "name": "python",
   "nbconvert_exporter": "python",
   "pygments_lexer": "ipython3",
   "version": "3.11.5"
  }
 },
 "nbformat": 4,
 "nbformat_minor": 5
}
